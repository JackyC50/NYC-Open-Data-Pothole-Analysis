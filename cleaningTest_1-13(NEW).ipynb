{
 "cells": [
  {
   "cell_type": "code",
   "execution_count": 1,
   "id": "e86e2fde-7d37-453c-8a12-495d79522bc9",
   "metadata": {
    "scrolled": true
   },
   "outputs": [],
   "source": [
    "import pandas as pd\n",
    "df = pd.read_csv('file_with_gis_community_boards.csv', nrows=148701)  # Loads rows"
   ]
  },
  {
   "cell_type": "code",
   "execution_count": 3,
   "id": "2422a73e-a849-47b3-b18c-9f3cec830b04",
   "metadata": {},
   "outputs": [
    {
     "data": {
      "text/plain": [
       "unique_key                            0\n",
       "created_date                          0\n",
       "closed_date                          34\n",
       "complaint_type                        0\n",
       "descriptor                            0\n",
       "incident_zip                       5663\n",
       "incident_address                  53155\n",
       "street_name                       53160\n",
       "cross_street_1                    51138\n",
       "cross_street_2                    51170\n",
       "intersection_street_1             98004\n",
       "intersection_street_2             98006\n",
       "address_type                          0\n",
       "city                               5615\n",
       "resolution_description                0\n",
       "resolution_action_updated_date        0\n",
       "community_board                    3103\n",
       "borough                            3103\n",
       "latitude                            451\n",
       "longitude                           451\n",
       "location                            450\n",
       "community_board_GIS                 652\n",
       "dtype: int64"
      ]
     },
     "execution_count": 3,
     "metadata": {},
     "output_type": "execute_result"
    }
   ],
   "source": [
    "df.isnull().sum()"
   ]
  },
  {
   "cell_type": "code",
   "execution_count": 5,
   "id": "157f126d-582b-44a8-bbe1-7f3c4e78c5f1",
   "metadata": {},
   "outputs": [
    {
     "name": "stdout",
     "output_type": "stream",
     "text": [
      "Empty DataFrame\n",
      "Columns: [unique_key, created_date, closed_date, complaint_type, descriptor, incident_zip, incident_address, street_name, cross_street_1, cross_street_2, intersection_street_1, intersection_street_2, address_type, city, resolution_description, resolution_action_updated_date, community_board, borough, latitude, longitude, location, community_board_GIS]\n",
      "Index: []\n",
      "\n",
      "[0 rows x 22 columns]\n"
     ]
    }
   ],
   "source": [
    "duplicates = df[df.duplicated()]\n",
    "print(duplicates)"
   ]
  },
  {
   "cell_type": "code",
   "execution_count": 7,
   "id": "90096a43-e65e-4fcc-a7c1-58697dad4fe1",
   "metadata": {},
   "outputs": [
    {
     "name": "stdout",
     "output_type": "stream",
     "text": [
      "         unique_key   incident_zip       latitude      longitude  \\\n",
      "count  1.487010e+05  143038.000000  148250.000000  148250.000000   \n",
      "mean   5.428972e+07   10904.544967      40.709651     -73.904971   \n",
      "std    5.152954e+06     526.998689       0.259159       1.874033   \n",
      "min    4.527865e+07      83.000000      18.684809     -75.255729   \n",
      "25%    5.038539e+07   10451.000000      40.648768     -73.982200   \n",
      "50%    5.407570e+07   11211.000000      40.709739     -73.920296   \n",
      "75%    5.839216e+07   11363.000000      40.763035     -73.849107   \n",
      "max    6.359548e+07   11697.000000      43.299428     100.800005   \n",
      "\n",
      "       community_board_GIS  \n",
      "count        148049.000000  \n",
      "mean            325.326932  \n",
      "std             119.818484  \n",
      "min             101.000000  \n",
      "25%             211.000000  \n",
      "50%             316.000000  \n",
      "75%             410.000000  \n",
      "max             595.000000  \n"
     ]
    }
   ],
   "source": [
    "print(df.describe())"
   ]
  },
  {
   "cell_type": "code",
   "execution_count": 9,
   "id": "e9d66677-f49e-444a-a433-8de1071afb55",
   "metadata": {},
   "outputs": [
    {
     "data": {
      "text/plain": [
       "unique_key                            0\n",
       "created_date                          0\n",
       "closed_date                           0\n",
       "complaint_type                        0\n",
       "descriptor                            0\n",
       "incident_zip                       5085\n",
       "incident_address                  52551\n",
       "street_name                       52555\n",
       "cross_street_1                    50626\n",
       "cross_street_2                    50657\n",
       "intersection_street_1             97381\n",
       "intersection_street_2             97381\n",
       "address_type                          0\n",
       "city                               5039\n",
       "resolution_description                0\n",
       "resolution_action_updated_date        0\n",
       "community_board                    2592\n",
       "borough                            2592\n",
       "latitude                              0\n",
       "longitude                             0\n",
       "location                              0\n",
       "community_board_GIS                   0\n",
       "dtype: int64"
      ]
     },
     "execution_count": 9,
     "metadata": {},
     "output_type": "execute_result"
    }
   ],
   "source": [
    "# Remove rows where 'community_board_GIS' is null\n",
    "df_cleaned = df.dropna(subset=['community_board_GIS','closed_date'])\n",
    "df_cleaned.isnull().sum()"
   ]
  },
  {
   "cell_type": "code",
   "execution_count": 11,
   "id": "8616dacf-0fd6-4bf5-9303-7ac85d9ad3e4",
   "metadata": {},
   "outputs": [],
   "source": [
    "# Ensure df_cleaned is a full copy, not a slice\n",
    "df_cleaned = df_cleaned.copy()\n",
    "def fill_community_board(row):\n",
    "    community_board = row['community_board']\n",
    "    community_board_GIS = str(row['community_board_GIS'])  # Convert to string for comparison\n",
    "\n",
    "    # Check if the community_board is null or blank\n",
    "    if pd.isnull(community_board) or community_board.strip() == '' or 'Unspecified' in community_board:\n",
    "        # Replace with the value derived from community_board_GIS\n",
    "        if community_board_GIS.startswith('1'):\n",
    "            return f\"{int(float(community_board_GIS[1:])):02d} MANHATTAN\"\n",
    "        elif community_board_GIS.startswith('2'):\n",
    "            return f\"{int(float(community_board_GIS[1:])):02d} BRONX\"\n",
    "        elif community_board_GIS.startswith('3'):\n",
    "            return f\"{int(float(community_board_GIS[1:])):02d} BROOKLYN\"\n",
    "        elif community_board_GIS.startswith('4'):\n",
    "            return f\"{int(float(community_board_GIS[1:])):02d} QUEENS\"\n",
    "        elif community_board_GIS.startswith('5'):\n",
    "            return f\"{int(float(community_board_GIS[1:])):02d} STATEN ISLAND\"\n",
    "    return community_board  # Return the original value if valid\n",
    "\n",
    "# Apply the function to fill in missing/incorrect values\n",
    "df_cleaned['community_board'] = df_cleaned.apply(fill_community_board, axis=1)\n",
    "# Save the updated DataFrame to a new CSV file\n",
    "df_cleaned.to_csv('updated_community_board_with_GIS.csv', index=False)"
   ]
  },
  {
   "cell_type": "code",
   "execution_count": 13,
   "id": "3a4d6a07-d882-460c-8ac7-418be1cf3c6d",
   "metadata": {},
   "outputs": [],
   "source": [
    "# Function to remove .0 from any column value\n",
    "# def remove_dot_zero(value):\n",
    "#     if isinstance(value, str) and '.0' in value:\n",
    "#         return value.replace('.0', '')  # Remove the '.0' from the string\n",
    "#     elif isinstance(value, float) and value.is_integer():\n",
    "#         return str(int(value))  # Convert float to integer as a string\n",
    "#     return value  # Return the original value if no change is needed\n",
    "\n",
    "# Apply the function to both columns\n",
    "# df_cleaned['community_board'] = df_cleaned['community_board'].apply(remove_dot_zero)\n",
    "# df_cleaned['community_board_GIS'] = df_cleaned['community_board_GIS'].apply(remove_dot_zero)\n",
    "\n",
    "# Verify changes\n",
    "# print(\"Updated columns:\")\n",
    "# print(df_cleaned[['community_board', 'community_board_GIS']].head())\n",
    "\n",
    "# Save the updated DataFrame to a new CSV file\n",
    "# df_cleaned.to_csv('community_board_and_GIS_no_dot_zero.csv', index=False)\n"
   ]
  },
  {
   "cell_type": "code",
   "execution_count": 15,
   "id": "3e18e385-4885-4c8f-a8bb-58e92cfed30f",
   "metadata": {},
   "outputs": [],
   "source": [
    "# Check if any '.0' exists in the community_board column\n",
    "# dot_zero_values = df_cleaned['community_board_GIS'].str.contains(r'\\.0', na=False)\n",
    "\n",
    "# # Count the number of rows with '.0' in community_board\n",
    "# dot_zero_count = dot_zero_values.sum()\n",
    "\n",
    "# # Print the result\n",
    "# if dot_zero_count > 0:\n",
    "#     print(f\"There are {dot_zero_count} rows with '.0' in the community_board column.\")\n",
    "#     print(df_cleaned[dot_zero_values])  # Display rows with '.0' values\n",
    "# else:\n",
    "#     print(\"No '.0' values found in the community_board column.\")\n"
   ]
  },
  {
   "cell_type": "code",
   "execution_count": 23,
   "id": "824b06d0-33c2-40d2-bb44-862a4f166eba",
   "metadata": {},
   "outputs": [
    {
     "name": "stdout",
     "output_type": "stream",
     "text": [
      "Number of mismatches between 'community_board' and 'community_board_GIS': 264\n",
      "Rows with mismatches:\n",
      "       community_board  community_board_GIS  \\\n",
      "493        16.0 QUEENS                316.0   \n",
      "682        18.0 QUEENS                318.0   \n",
      "856      05.0 BROOKLYN                405.0   \n",
      "899        16.0 QUEENS                316.0   \n",
      "915        16.0 QUEENS                316.0   \n",
      "...                ...                  ...   \n",
      "136746   05.0 BROOKLYN                405.0   \n",
      "137991   05.0 BROOKLYN                405.0   \n",
      "142773     04.0 QUEENS                304.0   \n",
      "146666   05.0 BROOKLYN                405.0   \n",
      "147750   05.0 BROOKLYN                405.0   \n",
      "\n",
      "                                                 location  \n",
      "493                   ATLANTIC AVENUE, QUEENS, NY 11421.0  \n",
      "682                      BELT PARKWAY, QUEENS, NY 11414.0  \n",
      "856     IRVING AVENUE and MOFFAT STREET, BROOKLYN, NY ...  \n",
      "899                   ATLANTIC AVENUE, QUEENS, NY 11421.0  \n",
      "915                   ATLANTIC AVENUE, QUEENS, NY 11421.0  \n",
      "...                                                   ...  \n",
      "136746  GATES AVENUE and WYCKOFF AVENUE, BROOKLYN, NY ...  \n",
      "137991  WEIRFIELD STREET and WYCKOFF AVENUE, BROOKLYN,...  \n",
      "142773                 CYPRESS AVENUE, QUEENS, NY 11385.0  \n",
      "146666              FLUSHING AVENUE, BROOKLYN, NY 11237.0  \n",
      "147750  BLEECKER STREET and CYPRESS AVENUE, BROOKLYN, ...  \n",
      "\n",
      "[264 rows x 3 columns]\n"
     ]
    }
   ],
   "source": [
    "# Function to check mismatches\n",
    "def find_mismatch(row):\n",
    "    community_board = row['community_board']\n",
    "    community_board_GIS = str(row['community_board_GIS'])  # Convert to string for comparison\n",
    "\n",
    "    # Handle missing or null values\n",
    "    if pd.isnull(community_board) or pd.isnull(community_board_GIS):\n",
    "        return 0  # Treat missing values as no mismatch\n",
    "\n",
    "    # Extract borough and board number\n",
    "    board_number, borough = community_board.split(maxsplit=1)\n",
    "    if borough == 'MANHATTAN' and not community_board_GIS.startswith('1' + board_number):\n",
    "        return 1\n",
    "    elif borough == 'BRONX' and not community_board_GIS.startswith('2' + board_number):\n",
    "        return 1\n",
    "    elif borough == 'BROOKLYN' and not community_board_GIS.startswith('3' + board_number):\n",
    "        return 1\n",
    "    elif borough == 'QUEENS' and not community_board_GIS.startswith('4' + board_number):\n",
    "        return 1\n",
    "    elif borough == 'STATEN ISLAND' and not community_board_GIS.startswith('5' + board_number):\n",
    "        return 1\n",
    "    return 0\n",
    "\n",
    "# Apply the function to check mismatches\n",
    "df_cleaned['mismatch'] = df_cleaned.apply(find_mismatch, axis=1)\n",
    "mismatch_count = df_cleaned['mismatch'].sum()\n",
    "\n",
    "# Print the number of mismatches\n",
    "print(f\"Number of mismatches between 'community_board' and 'community_board_GIS': {mismatch_count}\")\n",
    "\n",
    "# Show rows with mismatches\n",
    "mismatches = df_cleaned[df_cleaned['mismatch'] == 1]\n",
    "print(\"Rows with mismatches:\")\n",
    "print(mismatches[['community_board', 'community_board_GIS', 'location']])\n",
    "\n",
    "# Save the updated DataFrame to a new CSV file\n",
    "df_cleaned.to_csv('check_mismatch_8508.csv', index=False)\n"
   ]
  },
  {
   "cell_type": "code",
   "execution_count": 19,
   "id": "fcc85c68-6a7c-4149-a47f-5ba00b179728",
   "metadata": {},
   "outputs": [
    {
     "name": "stdout",
     "output_type": "stream",
     "text": [
      "Number of mismatches between 'community_board' and 'community_board_GIS' after fixing: 264\n",
      "Rows with remaining mismatches:\n",
      "       community_board  community_board_GIS  \\\n",
      "493        16.0 QUEENS                316.0   \n",
      "682        18.0 QUEENS                318.0   \n",
      "856      05.0 BROOKLYN                405.0   \n",
      "899        16.0 QUEENS                316.0   \n",
      "915        16.0 QUEENS                316.0   \n",
      "...                ...                  ...   \n",
      "136746   05.0 BROOKLYN                405.0   \n",
      "137991   05.0 BROOKLYN                405.0   \n",
      "142773     04.0 QUEENS                304.0   \n",
      "146666   05.0 BROOKLYN                405.0   \n",
      "147750   05.0 BROOKLYN                405.0   \n",
      "\n",
      "                                                 location  \n",
      "493                   ATLANTIC AVENUE, QUEENS, NY 11421.0  \n",
      "682                      BELT PARKWAY, QUEENS, NY 11414.0  \n",
      "856     IRVING AVENUE and MOFFAT STREET, BROOKLYN, NY ...  \n",
      "899                   ATLANTIC AVENUE, QUEENS, NY 11421.0  \n",
      "915                   ATLANTIC AVENUE, QUEENS, NY 11421.0  \n",
      "...                                                   ...  \n",
      "136746  GATES AVENUE and WYCKOFF AVENUE, BROOKLYN, NY ...  \n",
      "137991  WEIRFIELD STREET and WYCKOFF AVENUE, BROOKLYN,...  \n",
      "142773                 CYPRESS AVENUE, QUEENS, NY 11385.0  \n",
      "146666              FLUSHING AVENUE, BROOKLYN, NY 11237.0  \n",
      "147750  BLEECKER STREET and CYPRESS AVENUE, BROOKLYN, ...  \n",
      "\n",
      "[264 rows x 3 columns]\n"
     ]
    }
   ],
   "source": [
    "# Function to check mismatches and fix them if needed\n",
    "def fix_mismatch(row):\n",
    "    community_board = row['community_board']\n",
    "    community_board_GIS = str(row['community_board_GIS'])  # Convert to string for comparison\n",
    "\n",
    "    # Handle missing or null values\n",
    "    if pd.isnull(community_board) or pd.isnull(community_board_GIS):\n",
    "        return community_board  # Keep as is for missing values\n",
    "\n",
    "    # Extract borough and board number from community_board\n",
    "    try:\n",
    "        board_number, borough = community_board.split(maxsplit=1)\n",
    "    except ValueError:\n",
    "        return community_board  # Keep as is if split fails\n",
    "\n",
    "    # Check for mismatch and fix it\n",
    "    if borough == 'MANHATTAN' and not community_board_GIS.startswith('1' + board_number):\n",
    "        return f\"{community_board_GIS[1:].zfill(2)} MANHATTAN\"\n",
    "    elif borough == 'BRONX' and not community_board_GIS.startswith('2' + board_number):\n",
    "        return f\"{community_board_GIS[1:].zfill(2)} BRONX\"\n",
    "    elif borough == 'BROOKLYN' and not community_board_GIS.startswith('3' + board_number):\n",
    "        return f\"{community_board_GIS[1:].zfill(2)} BROOKLYN\"\n",
    "    elif borough == 'QUEENS' and not community_board_GIS.startswith('4' + board_number):\n",
    "        return f\"{community_board_GIS[1:].zfill(2)} QUEENS\"\n",
    "    elif borough == 'STATEN ISLAND' and not community_board_GIS.startswith('5' + board_number):\n",
    "        return f\"{community_board_GIS[1:].zfill(2)} STATEN ISLAND\"\n",
    "\n",
    "    return community_board  # If no mismatch, return the original value\n",
    "\n",
    "# Apply the function to fix mismatches\n",
    "df_cleaned['community_board'] = df_cleaned.apply(fix_mismatch, axis=1)\n",
    "\n",
    "# Function to identify remaining mismatches\n",
    "def find_mismatch(row):\n",
    "    community_board = row['community_board']\n",
    "    community_board_GIS = str(row['community_board_GIS'])  # Convert to string for comparison\n",
    "\n",
    "    # Handle missing or null values\n",
    "    if pd.isnull(community_board) or pd.isnull(community_board_GIS):\n",
    "        return 1  # Count as a mismatch if missing values\n",
    "\n",
    "    # Extract borough and board number\n",
    "    try:\n",
    "        board_number, borough = community_board.split(maxsplit=1)\n",
    "    except ValueError:\n",
    "        return 1  # Count as a mismatch if invalid community_board format\n",
    "\n",
    "    # Check for mismatch\n",
    "    if borough == 'MANHATTAN' and not community_board_GIS.startswith('1' + board_number):\n",
    "        return 1\n",
    "    elif borough == 'BRONX' and not community_board_GIS.startswith('2' + board_number):\n",
    "        return 1\n",
    "    elif borough == 'BROOKLYN' and not community_board_GIS.startswith('3' + board_number):\n",
    "        return 1\n",
    "    elif borough == 'QUEENS' and not community_board_GIS.startswith('4' + board_number):\n",
    "        return 1\n",
    "    elif borough == 'STATEN ISLAND' and not community_board_GIS.startswith('5' + board_number):\n",
    "        return 1\n",
    "\n",
    "    return 0  # No mismatch\n",
    "\n",
    "# Reapply mismatch check to validate the fixes\n",
    "df_cleaned['mismatch'] = df_cleaned.apply(find_mismatch, axis=1)\n",
    "\n",
    "# Count the number of remaining mismatches\n",
    "mismatch_count = df_cleaned['mismatch'].sum()\n",
    "\n",
    "# Print the number of mismatches remaining\n",
    "print(f\"Number of mismatches between 'community_board' and 'community_board_GIS' after fixing: {mismatch_count}\")\n",
    "\n",
    "# Show rows with remaining mismatches\n",
    "remaining_mismatches = df_cleaned[df_cleaned['mismatch'] == 1]\n",
    "print(\"Rows with remaining mismatches:\")\n",
    "print(remaining_mismatches[['community_board', 'community_board_GIS', 'location']])\n",
    "\n",
    "# Save remaining mismatches to a new CSV for review\n",
    "remaining_mismatches.to_csv('remaining_mismatches.csv', index=False)\n",
    "\n",
    "# Save the updated DataFrame to a new CSV file\n",
    "df_cleaned.to_csv('check_mismatch_264.csv', index=False)"
   ]
  },
  {
   "cell_type": "code",
   "execution_count": 45,
   "id": "15e6ca55-e9b3-4405-b34e-0020e01a6dda",
   "metadata": {},
   "outputs": [
    {
     "name": "stdout",
     "output_type": "stream",
     "text": [
      "Rows with 'mismatch' == 1 have been removed.\n",
      "   unique_key             created_date              closed_date  \\\n",
      "0    63589056  2024-12-31T23:24:25.000  2025-01-01T21:55:00.000   \n",
      "1    63587853  2024-12-31T23:23:19.000  2025-01-01T21:05:00.000   \n",
      "2    63594198  2024-12-31T23:22:08.000  2025-01-01T19:10:00.000   \n",
      "3    63589057  2024-12-31T23:09:09.000  2025-01-01T17:20:00.000   \n",
      "4    63587916  2024-12-31T14:09:35.000  2025-01-01T13:30:00.000   \n",
      "\n",
      "     complaint_type descriptor  incident_zip   incident_address  \\\n",
      "0  Street Condition    Pothole       11378.0                NaN   \n",
      "1  Street Condition    Pothole       11378.0                NaN   \n",
      "2  Street Condition    Pothole       11385.0                NaN   \n",
      "3  Street Condition    Pothole       11385.0                NaN   \n",
      "4  Street Condition    Pothole       11222.0  457 GRAHAM AVENUE   \n",
      "\n",
      "     street_name  cross_street_1 cross_street_2  ...      city  \\\n",
      "0            NaN             NaN            NaN  ...    QUEENS   \n",
      "1            NaN             NaN            NaN  ...    QUEENS   \n",
      "2            NaN             NaN            NaN  ...    QUEENS   \n",
      "3            NaN             NaN            NaN  ...    QUEENS   \n",
      "4  GRAHAM AVENUE  HERBERT STREET  MEEKER AVENUE  ...  BROOKLYN   \n",
      "\n",
      "                              resolution_description  \\\n",
      "0  The Department of Transportation inspected thi...   \n",
      "1  The Department of Transportation inspected thi...   \n",
      "2  The Department of Transportation inspected thi...   \n",
      "3  The Department of Transportation inspected thi...   \n",
      "4  The Department of Transportation inspected thi...   \n",
      "\n",
      "  resolution_action_updated_date community_board   borough   latitude  \\\n",
      "0        2025-01-01T21:55:00.000       02 QUEENS    QUEENS  40.729360   \n",
      "1        2025-01-01T21:05:00.000       02 QUEENS    QUEENS  40.726098   \n",
      "2        2025-01-01T19:10:00.000       05 QUEENS    QUEENS  40.702592   \n",
      "3        2025-01-01T17:20:00.000       05 QUEENS    QUEENS  40.711264   \n",
      "4        2025-01-01T13:30:00.000     01 BROOKLYN  BROOKLYN  40.719175   \n",
      "\n",
      "   longitude                                           location  \\\n",
      "0 -73.928550  56 ROAD and LAUREL HILL BOULEVARD, QUEENS, NY ...   \n",
      "1 -73.919426          49 STREET and 56 ROAD, QUEENS, NY 11378.0   \n",
      "2 -73.895203  70 AVENUE and FRESH POND ROAD, QUEENS, NY 11385.0   \n",
      "3 -73.899854  FRESH POND ROAD and MENAHAN STREET, QUEENS, NY...   \n",
      "4 -73.945328            457 GRAHAM AVENUE, BROOKLYN, NY 11222.0   \n",
      "\n",
      "   community_board_GIS  mismatch  \n",
      "0                402.0         0  \n",
      "1                402.0         0  \n",
      "2                405.0         0  \n",
      "3                405.0         0  \n",
      "4                301.0         0  \n",
      "\n",
      "[5 rows x 23 columns]\n"
     ]
    }
   ],
   "source": [
    "# Remove rows where 'mismatch' equals 1\n",
    "df_cleaned = df_cleaned[df_cleaned['mismatch'] != 1]\n",
    "\n",
    "# Reset the index (optional, for clean indexing)\n",
    "df_cleaned.reset_index(drop=True, inplace=True)\n",
    "\n",
    "# Save the updated DataFrame to a new CSV file\n",
    "df_cleaned.to_csv('cleaned_data_no_mismatches.csv', index=False)\n",
    "\n",
    "# Print confirmation and a preview\n",
    "print(\"Rows with 'mismatch' == 1 have been removed.\")\n",
    "print(df_cleaned.head())"
   ]
  },
  {
   "cell_type": "code",
   "execution_count": 47,
   "id": "19f46ea8-e9af-4b6d-806c-6c40dace2f39",
   "metadata": {},
   "outputs": [
    {
     "name": "stdout",
     "output_type": "stream",
     "text": [
      "Success: All rows with 'mismatch' == 1 have been removed.\n"
     ]
    }
   ],
   "source": [
    "# Check if any rows with 'mismatch' == 1 exist\n",
    "if (df_cleaned['mismatch'] == 1).any():\n",
    "    print(\"Error: There are still rows with 'mismatch' == 1 in the DataFrame.\")\n",
    "else:\n",
    "    print(\"Success: All rows with 'mismatch' == 1 have been removed.\")\n"
   ]
  },
  {
   "cell_type": "code",
   "execution_count": 49,
   "id": "a6fc48b5-b76b-465a-ad70-ce669e7b19c5",
   "metadata": {},
   "outputs": [
    {
     "name": "stdout",
     "output_type": "stream",
     "text": [
      "Updated borough column:\n",
      "  community_board   borough\n",
      "0       02 QUEENS    QUEENS\n",
      "1       02 QUEENS    QUEENS\n",
      "2       05 QUEENS    QUEENS\n",
      "3       05 QUEENS    QUEENS\n",
      "4     01 BROOKLYN  BROOKLYN\n"
     ]
    }
   ],
   "source": [
    "# Function to update the borough column based on community_board\n",
    "def update_borough(row):\n",
    "    community_board = row['community_board']\n",
    "    borough = row['borough']\n",
    "\n",
    "    # Check if community_board is valid\n",
    "    if pd.isnull(community_board) or not isinstance(community_board, str):\n",
    "        return borough  # Keep the existing borough if community_board is null or invalid\n",
    "\n",
    "    # Extract the borough from community_board\n",
    "    try:\n",
    "        _, correct_borough = community_board.split(maxsplit=1)\n",
    "        # Replace borough if it's 'Unspecified', blank, or invalid\n",
    "        if pd.isnull(borough) or borough.strip() == '' or borough == 'Unspecified':\n",
    "            return correct_borough\n",
    "        return correct_borough  # Replace with the correct borough from community_board\n",
    "    except ValueError:\n",
    "        # If splitting fails, keep the existing borough\n",
    "        return borough\n",
    "\n",
    "# Apply the function to the borough column\n",
    "df_cleaned['borough'] = df_cleaned.apply(update_borough, axis=1)\n",
    "\n",
    "# Save the updated DataFrame to a new CSV file\n",
    "df_cleaned.to_csv('updated_borough_from_community_board_new.csv', index=False)\n",
    "\n",
    "# Print a preview of the updated DataFrame\n",
    "print(\"Updated borough column:\")\n",
    "print(df_cleaned[['community_board', 'borough']].head())"
   ]
  },
  {
   "cell_type": "code",
   "execution_count": 51,
   "id": "3df4309e-3cb4-48f4-98af-e575e1f49f14",
   "metadata": {},
   "outputs": [
    {
     "data": {
      "text/plain": [
       "unique_key                            0\n",
       "created_date                          0\n",
       "closed_date                           0\n",
       "complaint_type                        0\n",
       "descriptor                            0\n",
       "incident_zip                       5085\n",
       "incident_address                  52508\n",
       "street_name                       52512\n",
       "cross_street_1                    50583\n",
       "cross_street_2                    50614\n",
       "intersection_street_1             97160\n",
       "intersection_street_2             97160\n",
       "address_type                          0\n",
       "city                               5039\n",
       "resolution_description                0\n",
       "resolution_action_updated_date        0\n",
       "community_board                       0\n",
       "borough                               0\n",
       "latitude                              0\n",
       "longitude                             0\n",
       "location                              0\n",
       "community_board_GIS                   0\n",
       "mismatch                              0\n",
       "dtype: int64"
      ]
     },
     "execution_count": 51,
     "metadata": {},
     "output_type": "execute_result"
    }
   ],
   "source": [
    "df_cleaned.isnull().sum()"
   ]
  },
  {
   "cell_type": "code",
   "execution_count": null,
   "id": "7a837312-a592-4c3d-af5b-a17b6423440f",
   "metadata": {},
   "outputs": [],
   "source": []
  }
 ],
 "metadata": {
  "kernelspec": {
   "display_name": "Python [conda env:base] *",
   "language": "python",
   "name": "conda-base-py"
  },
  "language_info": {
   "codemirror_mode": {
    "name": "ipython",
    "version": 3
   },
   "file_extension": ".py",
   "mimetype": "text/x-python",
   "name": "python",
   "nbconvert_exporter": "python",
   "pygments_lexer": "ipython3",
   "version": "3.12.7"
  }
 },
 "nbformat": 4,
 "nbformat_minor": 5
}
